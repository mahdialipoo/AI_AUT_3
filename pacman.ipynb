{
 "cells": [
  {
   "cell_type": "code",
   "execution_count": 266,
   "metadata": {},
   "outputs": [],
   "source": [
    "import numpy as np\n",
    "class board:\n",
    "    def __init__(self,m=18,n=9):\n",
    "        self.m=m\n",
    "        self.n=n\n",
    "    def add_obsticle(self,obsticles):\n",
    "        self.obsticles=obsticles\n",
    "    def add_pacman(self,pacman):\n",
    "        if (pacman.x,pacman.y) not in self.obsticles :\n",
    "            self.pacman=pacman\n",
    "            return True\n",
    "        return False\n",
    "    def request_move(self,w):\n",
    "        if w==1 and (self.pacman.x,self.pacman.y+1) not in self.obsticles and self.pacman.y<self.m-1:\n",
    "            self.pacman.y=self.pacman.y+1\n",
    "        elif w==2 and (self.pacman.x+1,self.pacman.y) not in self.obsticles and self.pacman.x<self.n-1:\n",
    "            self.pacman.x=self.pacman.x+1\n",
    "        elif w==3 and (self.pacman.x,self.pacman.y-1) not in self.obsticles and self.pacman.y>0:\n",
    "            self.pacman.y=self.pacman.y-1\n",
    "        elif w==4 and (self.pacman.x-1,self.pacman.y) not in self.obsticles and self.pacman.x>0 :\n",
    "            self.pacman.x=self.pacman.x-1\n",
    "        return False\n",
    "\n",
    "    def disp(self):\n",
    "        b=np.zeros([self.m,self.n],dtype=np.int8)\n",
    "        b[self.pacman.x,self.pacman.y]=1\n",
    "        print(b)\n",
    "class Pacman:\n",
    "    def __init__(self,x,y,enviroment=None):\n",
    "        self.x=x\n",
    "        self.y=y\n",
    "        self.enviroment=enviroment\n",
    "    def move(self,w):\n",
    "        if w not in [1,2,3,4]:\n",
    "            return False\n",
    "        else:\n",
    "            if self.enviroment.request_move(w):\n",
    "                if w==1:\n",
    "                    self.y=self.y+1\n",
    "                elif w==2:\n",
    "                    self.x=self.x+1\n",
    "                elif w==3:\n",
    "                    self.y=self.y-1\n",
    "                elif w==4 :\n",
    "                    self.x=self.x-1\n",
    "        "
   ]
  },
  {
   "cell_type": "code",
   "execution_count": 299,
   "metadata": {},
   "outputs": [
    {
     "name": "stdout",
     "output_type": "stream",
     "text": [
      "[[0 0 0 0 0 0 0 0 0]\n",
      " [0 0 0 0 0 0 0 0 0]\n",
      " [0 0 0 0 0 0 0 0 0]\n",
      " [0 0 0 0 0 0 0 0 0]\n",
      " [0 0 1 0 0 0 0 0 0]\n",
      " [0 0 0 0 0 0 0 0 0]\n",
      " [0 0 0 0 0 0 0 0 0]\n",
      " [0 0 0 0 0 0 0 0 0]\n",
      " [0 0 0 0 0 0 0 0 0]\n",
      " [0 0 0 0 0 0 0 0 0]\n",
      " [0 0 0 0 0 0 0 0 0]\n",
      " [0 0 0 0 0 0 0 0 0]\n",
      " [0 0 0 0 0 0 0 0 0]\n",
      " [0 0 0 0 0 0 0 0 0]\n",
      " [0 0 0 0 0 0 0 0 0]\n",
      " [0 0 0 0 0 0 0 0 0]\n",
      " [0 0 0 0 0 0 0 0 0]\n",
      " [0 0 0 0 0 0 0 0 0]]\n"
     ]
    }
   ],
   "source": [
    "b=board()\n",
    "p=Pacman(4,2)\n",
    "b.add_obsticle([(100,100)])\n",
    "if b.add_pacman(p):\n",
    "    p.enviroment=b\n",
    "\n",
    "b.disp()"
   ]
  },
  {
   "cell_type": "code",
   "execution_count": 306,
   "metadata": {},
   "outputs": [
    {
     "ename": "IndexError",
     "evalue": "index 9 is out of bounds for axis 1 with size 9",
     "output_type": "error",
     "traceback": [
      "\u001b[1;31m---------------------------------------------------------------------------\u001b[0m",
      "\u001b[1;31mIndexError\u001b[0m                                Traceback (most recent call last)",
      "\u001b[1;32md:\\term9\\intelligence\\HW\\3\\pacman.ipynb Cell 3\u001b[0m line \u001b[0;36m<cell line: 2>\u001b[1;34m()\u001b[0m\n\u001b[0;32m      <a href='vscode-notebook-cell:/d%3A/term9/intelligence/HW/3/pacman.ipynb#W2sZmlsZQ%3D%3D?line=0'>1</a>\u001b[0m p\u001b[39m.\u001b[39mmove(\u001b[39m1\u001b[39m)\n\u001b[1;32m----> <a href='vscode-notebook-cell:/d%3A/term9/intelligence/HW/3/pacman.ipynb#W2sZmlsZQ%3D%3D?line=1'>2</a>\u001b[0m b\u001b[39m.\u001b[39;49mdisp()\n",
      "\u001b[1;32md:\\term9\\intelligence\\HW\\3\\pacman.ipynb Cell 3\u001b[0m line \u001b[0;36mboard.disp\u001b[1;34m(self)\u001b[0m\n\u001b[0;32m     <a href='vscode-notebook-cell:/d%3A/term9/intelligence/HW/3/pacman.ipynb#W2sZmlsZQ%3D%3D?line=23'>24</a>\u001b[0m \u001b[39mdef\u001b[39;00m \u001b[39mdisp\u001b[39m(\u001b[39mself\u001b[39m):\n\u001b[0;32m     <a href='vscode-notebook-cell:/d%3A/term9/intelligence/HW/3/pacman.ipynb#W2sZmlsZQ%3D%3D?line=24'>25</a>\u001b[0m     b\u001b[39m=\u001b[39mnp\u001b[39m.\u001b[39mzeros([\u001b[39mself\u001b[39m\u001b[39m.\u001b[39mm,\u001b[39mself\u001b[39m\u001b[39m.\u001b[39mn],dtype\u001b[39m=\u001b[39mnp\u001b[39m.\u001b[39mint8)\n\u001b[1;32m---> <a href='vscode-notebook-cell:/d%3A/term9/intelligence/HW/3/pacman.ipynb#W2sZmlsZQ%3D%3D?line=25'>26</a>\u001b[0m     b[\u001b[39mself\u001b[39m\u001b[39m.\u001b[39mpacman\u001b[39m.\u001b[39mx,\u001b[39mself\u001b[39m\u001b[39m.\u001b[39mpacman\u001b[39m.\u001b[39my]\u001b[39m=\u001b[39m\u001b[39m1\u001b[39m\n\u001b[0;32m     <a href='vscode-notebook-cell:/d%3A/term9/intelligence/HW/3/pacman.ipynb#W2sZmlsZQ%3D%3D?line=26'>27</a>\u001b[0m     \u001b[39mprint\u001b[39m(b)\n",
      "\u001b[1;31mIndexError\u001b[0m: index 9 is out of bounds for axis 1 with size 9"
     ]
    }
   ],
   "source": [
    "p.move(1)\n",
    "b.disp()\n"
   ]
  },
  {
   "cell_type": "code",
   "execution_count": 312,
   "metadata": {},
   "outputs": [
    {
     "data": {
      "text/plain": [
       "9"
      ]
     },
     "execution_count": 312,
     "metadata": {},
     "output_type": "execute_result"
    }
   ],
   "source": [
    "b.n"
   ]
  }
 ],
 "metadata": {
  "kernelspec": {
   "display_name": "Python 3",
   "language": "python",
   "name": "python3"
  },
  "language_info": {
   "codemirror_mode": {
    "name": "ipython",
    "version": 3
   },
   "file_extension": ".py",
   "mimetype": "text/x-python",
   "name": "python",
   "nbconvert_exporter": "python",
   "pygments_lexer": "ipython3",
   "version": "3.10.5"
  },
  "orig_nbformat": 4
 },
 "nbformat": 4,
 "nbformat_minor": 2
}
