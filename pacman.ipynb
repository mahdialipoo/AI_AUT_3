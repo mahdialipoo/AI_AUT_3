{
 "cells": [
  {
   "cell_type": "code",
   "execution_count": 12,
   "metadata": {},
   "outputs": [],
   "source": [
    "import numpy as np\n",
    "class board:\n",
    "    def __init__(self,obsticles,m=18,n=9):\n",
    "        self.m=m\n",
    "        self.n=n\n",
    "        self.pg=[]\n",
    "        self.obsticles=obsticles\n",
    "        self.dots=np.ones([m,n])\n",
    "    def copy(self):\n",
    "        e=board(self.obsticles.copy(),self.m,self.n)\n",
    "        e.pg=self.pg.copy()\n",
    "        e.dots=self.dots.copy()\n",
    "        return e\n",
    "    def add_pg(self,pg):\n",
    "        self.pg.append(pg)\n",
    "    def request_move(self,w,index):\n",
    "        pg=self.pg[index]\n",
    "        if w==0  and pg.y<self.n-1:\n",
    "            next=np.array([pg.x,pg.y+1])\n",
    "        elif w==1  and pg.x<self.m-1:\n",
    "            next=np.array([pg.x+1,pg.y])\n",
    "        elif w==2  and pg.y>0:\n",
    "            next=np.array([pg.x,pg.y-1])\n",
    "        elif w==3 and pg.x>0 :\n",
    "            next=np.array([pg.x-1,pg.y])\n",
    "        else:\n",
    "            next=np.array([pg.x,pg.y])\n",
    "        if index==0 :\n",
    "            pg.score=pg.score-1\n",
    "            if self.dots[next[0],next[1]]==1:\n",
    "                self.dots[next[0],next[1]]=0\n",
    "                pg.score=pg.score+10\n",
    "        if not((self.obsticles==next).all(axis=1)).any():\n",
    "            pg.x,pg.y=next[0],next[1]\n",
    "            return True\n",
    "        return False\n",
    "    def Map(self):\n",
    "        b=np.zeros([self.m,self.n],dtype=np.int8)\n",
    "        for i in self.pg:\n",
    "            b[i.x,i.y]=2\n",
    "        b[self.pg[0].x,self.pg[0].y]=1\n",
    "        b[self.obsticles[:,0],self.obsticles[:,1]]=-1\n",
    "        return b  \n",
    "    def step(self):\n",
    "        for i in self.pg:\n",
    "             i.go()          \n",
    "        "
   ]
  },
  {
   "cell_type": "code",
   "execution_count": 13,
   "metadata": {},
   "outputs": [],
   "source": [
    "class PG:\n",
    "    def __init__(self,x,y,enviroment=None):\n",
    "        self.x=x\n",
    "        self.y=y\n",
    "        self.enviroment=enviroment\n",
    "        self.score=10\n",
    "        if not enviroment==None:\n",
    "            enviroment.add_pg(self)\n",
    "            self.index=len(enviroment.pg)-1\n",
    "    def move(self,w):\n",
    "        self.enviroment.request_move(w,self.index)\n",
    "        # self.x,self.y=self.enviroment.pg[self.index].x,self.enviroment.pg[self.index].y\n"
   ]
  },
  {
   "cell_type": "code",
   "execution_count": 49,
   "metadata": {},
   "outputs": [
    {
     "name": "stdout",
     "output_type": "stream",
     "text": [
      "[[ True  True  True  True  True  True  True  True  True]\n",
      " [ True  True  True  True  True  True  True  True  True]\n",
      " [ True  True  True  True  True  True  True  True  True]\n",
      " [ True  True  True  True  True  True  True  True  True]\n",
      " [ True  True  True  True  True  True  True  True  True]\n",
      " [ True  True  True  True  True  True  True  True  True]\n",
      " [ True  True  True  True  True  True  True  True  True]\n",
      " [ True  True  True  True  True  True  True  True  True]\n",
      " [ True  True  True  True  True  True  True  True  True]\n",
      " [ True  True  True  True  True  True  True  True  True]\n",
      " [ True  True  True  True  True  True  True  True  True]\n",
      " [ True  True  True  True  True  True  True  True  True]\n",
      " [ True  True  True  True  True  True  True  True  True]\n",
      " [ True  True  True  True  True  True  True  True  True]\n",
      " [ True  True  True  True  True  True  True  True  True]\n",
      " [ True False  True  True  True  True  True  True  True]\n",
      " [ True False  True  True  True  True  True  True  True]\n",
      " [ True  True  True  True  True  True  True  True  True]]\n"
     ]
    }
   ],
   "source": [
    "l=[]\n",
    "p.sucssesor(l)\n",
    "print(l[0]==l[1])\n",
    "# print(aw)"
   ]
  },
  {
   "cell_type": "code",
   "execution_count": 14,
   "metadata": {},
   "outputs": [],
   "source": [
    "class Pacman(PG):\n",
    "    def __init__(self, x, y, enviroment=None):\n",
    "        super().__init__(x, y, enviroment)\n",
    "        if not enviroment==None:\n",
    "            self.enviroment.dots[x,y]=0\n",
    "    def sucssesor(self,l):\n",
    "        b=self.enviroment.copy()\n",
    "        pg=b.pg\n",
    "        for i in range(1,5):\n",
    "            pg[0].move(i)\n",
    "            for j in range(1,5):\n",
    "                pg[1].move(j)\n",
    "                for k in range(1,5):\n",
    "                    pg[2].move(k)\n",
    "                    l.append(b.Map())\n",
    "                    pg[1].move((i+2)%4+1)\n",
    "                    pg[2].move((i+2)%4+1)\n",
    "            pg[0].move((i+2)%4+1)\n",
    "    def desision(self):\n",
    "        b=self.enviroment.copy()\n",
    "        self.Max_search(b)\n",
    "    def Max_search(self,b,depth=0):\n",
    "        if depth<5:\n",
    "            for i in range(4):\n",
    "                b.pg[0].move(i)\n",
    "                b.pg[0].Min_serach(depth+1)\n",
    "                b.pg[0].move((i+2)%4+1)\n",
    "\n",
    "    def Min_search(self,b,depth):\n",
    "        if depth<5:\n",
    "            for i in range(4):\n",
    "                b.pg[0].move(i)\n",
    "                b.pg[0].Min_serach(depth+1)\n",
    "                b.pg[0].move((i+2)%4+1)\n",
    "    def go(self):\n",
    "        self.move(np.random.choice(4)+1)"
   ]
  },
  {
   "cell_type": "code",
   "execution_count": 15,
   "metadata": {},
   "outputs": [],
   "source": [
    "class ghost(PG):\n",
    "    def __init__(self, x, y, enviroment=None):\n",
    "        super().__init__(x, y, enviroment)\n",
    "    def go(self):\n",
    "        self.move(np.random.choice(4)+1)\n"
   ]
  },
  {
   "cell_type": "code",
   "execution_count": 5,
   "metadata": {},
   "outputs": [],
   "source": [
    "def random_place(m,n,k):\n",
    "    index_array1 = np.arange(m)\n",
    "    index_array2 = np.arange(n)\n",
    "    np.random.shuffle(index_array1)\n",
    "    np.random.shuffle(index_array2)\n",
    "    x,y=index_array1[0:k],index_array2[0:k]\n",
    "    x=np.concatenate((x,y)).reshape((k,2))\n",
    "   \n",
    "    return x"
   ]
  },
  {
   "cell_type": "code",
   "execution_count": 16,
   "metadata": {},
   "outputs": [],
   "source": [
    "m=18\n",
    "n=9\n",
    "k=4\n",
    "obs=np.array([[1,2],[3,4]])\n",
    "b=board(obs,m,n)\n",
    "# ************\n",
    "# o=random_place(m,n,k+3)\n",
    "# b.add_obsticle(o[0:k-1,:])\n",
    "# p=Pacman(o[k,0],o[k,1],b)\n",
    "# g1=ghost(o[k+1,0],o[k+1,1],b)\n",
    "# g2=ghost(o[k+2,0],o[k+2,1],b)\n",
    "# ******************\n",
    "# obs=np.random.random_integers(18)\n",
    "\n",
    "# np.random.choice(np.arange(10,20), size=(5,2), replace=True)\n",
    "p=Pacman(5,5,b)\n",
    "g1=ghost(7,7,b)\n",
    "g2=ghost(6,6,b)\n"
   ]
  },
  {
   "cell_type": "code",
   "execution_count": 42,
   "metadata": {},
   "outputs": [
    {
     "data": {
      "text/plain": [
       "array([[ 0,  0,  0,  0,  0,  0,  0,  0,  0],\n",
       "       [ 0,  0, -1,  0,  0,  0,  0,  0,  0],\n",
       "       [ 0,  0,  0,  0,  0,  0,  0,  0,  0],\n",
       "       [ 0,  0,  0,  0, -1,  0,  0,  0,  0],\n",
       "       [ 0,  0,  0,  0,  0,  1,  0,  0,  0],\n",
       "       [ 0,  0,  0,  0,  0,  0,  0,  0,  0],\n",
       "       [ 0,  0,  0,  0,  0,  0,  0,  2,  0],\n",
       "       [ 0,  0,  0,  0,  0,  0,  2,  0,  0],\n",
       "       [ 0,  0,  0,  0,  0,  0,  0,  0,  0],\n",
       "       [ 0,  0,  0,  0,  0,  0,  0,  0,  0],\n",
       "       [ 0,  0,  0,  0,  0,  0,  0,  0,  0],\n",
       "       [ 0,  0,  0,  0,  0,  0,  0,  0,  0],\n",
       "       [ 0,  0,  0,  0,  0,  0,  0,  0,  0],\n",
       "       [ 0,  0,  0,  0,  0,  0,  0,  0,  0],\n",
       "       [ 0,  0,  0,  0,  0,  0,  0,  0,  0],\n",
       "       [ 0,  0,  0,  0,  0,  0,  0,  0,  0],\n",
       "       [ 0,  0,  0,  0,  0,  0,  0,  0,  0],\n",
       "       [ 0,  0,  0,  0,  0,  0,  0,  0,  0]], dtype=int8)"
      ]
     },
     "execution_count": 42,
     "metadata": {},
     "output_type": "execute_result"
    }
   ],
   "source": [
    "b.step()\n",
    "b.Map()"
   ]
  },
  {
   "cell_type": "code",
   "execution_count": 20,
   "metadata": {},
   "outputs": [
    {
     "data": {
      "text/plain": [
       "8"
      ]
     },
     "execution_count": 20,
     "metadata": {},
     "output_type": "execute_result"
    }
   ],
   "source": [
    "# b.pg[0].x\n",
    "# # 100%7\n",
    "# al=b.copy()\n",
    "# print(al.m)\n",
    "# # p.sucssesor()\n",
    "# # print(b.Map())\n",
    "# a=[]\n",
    "# a.append(al.Map())\n",
    "# a.append(al.Map())\n",
    "# print(len(a))\n",
    "p.x\n",
    "p.move(1)\n",
    "p.x"
   ]
  },
  {
   "cell_type": "code",
   "execution_count": 29,
   "metadata": {},
   "outputs": [
    {
     "data": {
      "text/plain": [
       "array([10,  2])"
      ]
     },
     "execution_count": 29,
     "metadata": {},
     "output_type": "execute_result"
    }
   ],
   "source": [
    "# import numpy as np\n",
    "# class board:\n",
    "#     def __init__(self,m,n,obs,x,y):\n",
    "#         self.m=m\n",
    "#         self.n=n\n",
    "#         self.pg=[Pacman(x,y)]\n",
    "#         self.obsticles=obs\n",
    "#         self.dots=np.ones([self.m,self.n])\n",
    "#         self.dots[x,y]=0\n",
    "#     def add_pg(self,pg):\n",
    "#         if (pg.x,pg.y) not in self.obsticles :\n",
    "#             self.pg.append(pg)\n",
    "#             return True\n",
    "#         return False\n",
    "#     def request_move(self,w,index):\n",
    "#         pg=self.pg[index]\n",
    "#         if w==1  and pg.y<self.n-1:\n",
    "#             next=np.array([pg.x,pg.y+1])\n",
    "#         elif w==2  and pg.x<self.m-1:\n",
    "#             next=np.array([pg.x+1,pg.y])\n",
    "#         elif w==3  and pg.y>0:\n",
    "#             next=np.array([pg.x,pg.y-1])\n",
    "#         elif w==4 and pg.x>0 :\n",
    "#             next=np.array([pg.x-1,pg.y])\n",
    "#         else:\n",
    "#             next=np.array([pg.x,pg.y])\n",
    "#         if index==0 :\n",
    "#             pg.score=pg.score-1\n",
    "#             if self.dots[next[0],next[1]]==1:\n",
    "#                 self.dots[next[0],next[1]]=0\n",
    "#                 pg.score=pg.score+10\n",
    "#         if not((self.obsticles==next).all(axis=1)).any():\n",
    "#             pg.x,pg.y=next[0],next[1]\n",
    "#             return True\n",
    "#         return False\n",
    "#     def Map(self):\n",
    "#         b=np.zeros([self.m,self.n],dtype=np.int8)\n",
    "#         for i in self.pg:\n",
    "#             b[i.x,i.y]=2\n",
    "#         b[self.pg[0].x,self.pg[0].y]=1\n",
    "#         b[self.obsticles[:,0],self.obsticles[:,1]]=-1\n",
    "#         return b  \n",
    "#     def step(self):\n",
    "#         for i in self.pg:\n",
    "#              i.go()  \n",
    "# class x():\n",
    "#     def __init__(self,r=5):\n",
    "#         self.ed=r\n",
    "#     def copy(self):\n",
    "#         e=x()\n",
    "#         e.ed=self.ed.copy\n",
    "#         return e\n",
    "        \n",
    "# w=x()\n",
    "# w2=w.copy()\n",
    "# w2.ed=10\n",
    "# print(w.ed,w2.ed)\n",
    "r=np.array([10,2])\n",
    "b=r.copy()\n",
    "b"
   ]
  },
  {
   "cell_type": "code",
   "execution_count": 125,
   "metadata": {},
   "outputs": [],
   "source": [
    "def random_place(m,n,k):\n",
    "    index_array1 = np.arange(m)\n",
    "    index_array2 = np.arange(n)\n",
    "    np.random.shuffle(index_array1)\n",
    "    np.random.shuffle(index_array2)\n",
    "    x,y=index_array1[0:k],index_array2[0:k]\n",
    "    return x,y"
   ]
  },
  {
   "cell_type": "code",
   "execution_count": 41,
   "metadata": {},
   "outputs": [
    {
     "data": {
      "text/plain": [
       "5"
      ]
     },
     "execution_count": 41,
     "metadata": {},
     "output_type": "execute_result"
    }
   ],
   "source": [
    "b.pg[0].x"
   ]
  },
  {
   "cell_type": "code",
   "execution_count": 11,
   "metadata": {},
   "outputs": [
    {
     "data": {
      "image/png": "[encoded data removed]",
      "text/plain": [
       "<Figure size 432x216 with 4 Axes>"
      ]
     },
     "metadata": {
      "needs_background": "light"
     },
     "output_type": "display_data"
    }
   ],
   "source": [
    "import numpy as np\n",
    "import matplotlib.pyplot as plt\n",
    "from matplotlib import cm\n",
    "from matplotlib.colors import ListedColormap, LinearSegmentedColormap\n",
    "\n",
    "viridis = cm.get_cmap('viridis', 12)\n",
    "newcolors = viridis(np.linspace(0, 1, 256))\n",
    "pink = np.array([248/256, 24/256, 148/256, 1])\n",
    "newcolors[:25, :] = pink\n",
    "newcmp = ListedColormap(newcolors)\n",
    "\n",
    "\n",
    "def plot_examples(cms):\n",
    "\n",
    "    np.random.seed(19680801)\n",
    "    data = np.random.randn(30, 30)\n",
    "\n",
    "    fig, axs = plt.subplots(1, 2, figsize=(6, 3), constrained_layout=True)\n",
    "    for [ax, cmap] in zip(axs, cms):\n",
    "        psm = ax.pcolormesh(data, cmap=cmap, rasterized=True, vmin=-4, vmax=4)\n",
    "        fig.colorbar(psm, ax=ax)\n",
    "    plt.show()\n",
    "\n",
    "plot_examples([viridis, newcmp])"
   ]
  },
  {
   "cell_type": "code",
   "execution_count": 11,
   "metadata": {},
   "outputs": [
    {
     "name": "stdout",
     "output_type": "stream",
     "text": [
      "5 10\n"
     ]
    }
   ],
   "source": [
    "# fig=plt.figure()\n",
    "# for i in range(len(l)):\n",
    "#     plt.pcolormesh(l[i], rasterized=True, vmin=-4, vmax=4)\n",
    "#     plt.show()\n",
    "class a():\n",
    "    def __init__(self,x) -> None:\n",
    "        self.x=x\n",
    "    def copy(self):\n",
    "        return a(self.x)\n",
    "x=a(5)\n",
    "def f(x):\n",
    "    y=x.copy()\n",
    "    y.x=10\n",
    "    return y\n",
    "b=f(x)\n",
    "print(x.x,b.x)"
   ]
  }
 ],
 "metadata": {
  "kernelspec": {
   "display_name": "Python 3",
   "language": "python",
   "name": "python3"
  },
  "language_info": {
   "codemirror_mode": {
    "name": "ipython",
    "version": 3
   },
   "file_extension": ".py",
   "mimetype": "text/x-python",
   "name": "python",
   "nbconvert_exporter": "python",
   "pygments_lexer": "ipython3",
   "version": "3.10.5"
  },
  "orig_nbformat": 4
 },
 "nbformat": 4,
 "nbformat_minor": 2
}
