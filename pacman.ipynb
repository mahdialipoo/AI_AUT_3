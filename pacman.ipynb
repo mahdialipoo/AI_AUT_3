{
 "cells": [
  {
   "cell_type": "code",
   "execution_count": 11,
   "metadata": {},
   "outputs": [],
   "source": [
    "import numpy as np\n",
    "class board:\n",
    "    def __init__(self,m=18,n=9):\n",
    "        self.m=m\n",
    "        self.n=n\n",
    "    def add_obsticle(self,obsticles):\n",
    "        self.obsticles=obsticles\n",
    "    def add_pacman(self,pacman):\n",
    "        if (pacman.x,pacman.y) not in self.obsticles :\n",
    "            self.pacman=pacman\n",
    "            return True\n",
    "        return False\n",
    "    def disp(self):\n",
    "        b=np.zeros([self.m,self.n],dtype=np.int8)\n",
    "        print(b)\n",
    "class Pacman:\n",
    "    def __init__(self,x,y,enviroment=None):\n",
    "        self.x=x\n",
    "        self.y=y\n",
    "        self.enviroment=enviroment"
   ]
  },
  {
   "cell_type": "code",
   "execution_count": 13,
   "metadata": {},
   "outputs": [
    {
     "name": "stdout",
     "output_type": "stream",
     "text": [
      "[[0 0 0 0 0 0 0 0 0]\n",
      " [0 0 0 0 0 0 0 0 0]\n",
      " [0 0 0 0 0 0 0 0 0]\n",
      " [0 0 0 0 0 0 0 0 0]\n",
      " [0 0 0 0 0 0 0 0 0]\n",
      " [0 0 0 0 0 0 0 0 0]\n",
      " [0 0 0 0 0 0 0 0 0]\n",
      " [0 0 0 0 0 0 0 0 0]\n",
      " [0 0 0 0 0 0 0 0 0]\n",
      " [0 0 0 0 0 0 0 0 0]\n",
      " [0 0 0 0 0 0 0 0 0]\n",
      " [0 0 0 0 0 0 0 0 0]\n",
      " [0 0 0 0 0 0 0 0 0]\n",
      " [0 0 0 0 0 0 0 0 0]\n",
      " [0 0 0 0 0 0 0 0 0]\n",
      " [0 0 0 0 0 0 0 0 0]\n",
      " [0 0 0 0 0 0 0 0 0]\n",
      " [0 0 0 0 0 0 0 0 0]]\n"
     ]
    }
   ],
   "source": [
    "b=board()\n",
    "p=Pacman(5,3)\n",
    "b.add_obsticle([(1,2),(2,3)])\n",
    "if b.add_pacman(p):\n",
    "    p.enviroment=b\n",
    "\n",
    "b.disp()"
   ]
  },
  {
   "cell_type": "code",
   "execution_count": null,
   "metadata": {},
   "outputs": [],
   "source": []
  }
 ],
 "metadata": {
  "kernelspec": {
   "display_name": "Python 3",
   "language": "python",
   "name": "python3"
  },
  "language_info": {
   "codemirror_mode": {
    "name": "ipython",
    "version": 3
   },
   "file_extension": ".py",
   "mimetype": "text/x-python",
   "name": "python",
   "nbconvert_exporter": "python",
   "pygments_lexer": "ipython3",
   "version": "3.10.5"
  },
  "orig_nbformat": 4
 },
 "nbformat": 4,
 "nbformat_minor": 2
}
