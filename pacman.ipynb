{
 "cells": [
  {
   "cell_type": "code",
   "execution_count": 96,
   "metadata": {},
   "outputs": [],
   "source": [
    "import numpy as np\n",
    "class board:\n",
    "    def __init__(self,obsticles,m=18,n=9):\n",
    "        self.m=m\n",
    "        self.n=n\n",
    "        self.pg=[]\n",
    "        self.obsticles=obsticles\n",
    "        self.dots=np.ones([m,n])\n",
    "    def copy(self):\n",
    "        e=board(self.obsticles.copy(),self.m,self.n)\n",
    "        e.pg=self.pg.copy()\n",
    "        e.dots=self.dots.copy()\n",
    "        return e\n",
    "    def utility(self):\n",
    "        return 5\n",
    "    def add_pg(self,pg):\n",
    "        self.pg.append(pg)\n",
    "    def request_move(self,w,index):\n",
    "        pg=self.pg[index]\n",
    "        next=np.array([pg.x,pg.y])\n",
    "        if w==0  and pg.y<self.n-1:\n",
    "            next=np.array([pg.x,pg.y+1])\n",
    "        elif w==1  and pg.x<self.m-1:\n",
    "            next=np.array([pg.x+1,pg.y])\n",
    "        elif w==2  and pg.y>0:\n",
    "            next=np.array([pg.x,pg.y-1])\n",
    "        elif w==3 and pg.x>0 :\n",
    "            next=np.array([pg.x-1,pg.y])\n",
    "        if index==0 :\n",
    "            pg.score=pg.score-1\n",
    "            if self.dots[next[0],next[1]]==1:\n",
    "                self.dots[next[0],next[1]]=0\n",
    "                pg.score=pg.score+10\n",
    "        if not((self.obsticles==next).all(axis=1)).any():\n",
    "            pg.x,pg.y=next[0],next[1]\n",
    "    def Map(self):\n",
    "        b=np.zeros([self.m,self.n],dtype=np.int8)\n",
    "        for i in self.pg:\n",
    "            b[i.x,i.y]=2\n",
    "        b[self.pg[0].x,self.pg[0].y]=1\n",
    "        b[self.obsticles[:,0],self.obsticles[:,1]]=-1\n",
    "        return b  \n",
    "    def step(self):\n",
    "        for i in self.pg:\n",
    "             i.go()          \n",
    "        "
   ]
  },
  {
   "cell_type": "code",
   "execution_count": 97,
   "metadata": {},
   "outputs": [],
   "source": [
    "class PG:\n",
    "    def __init__(self,x,y,enviroment):\n",
    "        self.x=x\n",
    "        self.y=y\n",
    "        self.enviroment=enviroment\n",
    "        enviroment.add_pg(self)\n",
    "        self.index=len(enviroment.pg)-1\n",
    "    def move(self,w):\n",
    "        self.enviroment.request_move(w,self.index)\n"
   ]
  },
  {
   "cell_type": "code",
   "execution_count": 106,
   "metadata": {},
   "outputs": [],
   "source": [
    "class Pacman(PG):\n",
    "    max_depth=5\n",
    "    def __init__(self, x, y, enviroment=None):\n",
    "        super().__init__(x, y, enviroment)\n",
    "        self.score=10\n",
    "        self.enviroment.dots[x,y]=0\n",
    "    def desision(self):\n",
    "        b=self.enviroment.copy()\n",
    "        max_i,i=self.Max_search(b)\n",
    "        return i\n",
    "    def Max_search(self,b,depth=0):\n",
    "        l=[]\n",
    "        if depth<Pacman.max_depth:\n",
    "            for i in range(4):\n",
    "                b.pg[0].move(i)\n",
    "                l.append(b.pg[0].Min_search(b,depth+1))\n",
    "                b.pg[0].move((i+2)%4)\n",
    "            return max(l),np.argmax(l)\n",
    "        else:\n",
    "            return b.utility()\n",
    "    def Min_search(self,b,depth):\n",
    "        l=[]\n",
    "        if depth<Pacman.max_depth:\n",
    "            for j in range(1,5):\n",
    "                b.pg[1].move(j)\n",
    "                for k in range(1,5):\n",
    "                    b.pg[2].move(k)\n",
    "                    l.append(b.pg[0].Max_search(b,depth+1)[0])\n",
    "                    b.pg[2].move((k+2)%4)\n",
    "                b.pg[1].move((j+2)%4)\n",
    "            return min(l)\n",
    "        else:\n",
    "            return b.utility()\n",
    "    def go(self):\n",
    "        i=self.desision()\n",
    "        self.move(i)"
   ]
  },
  {
   "cell_type": "code",
   "execution_count": 99,
   "metadata": {},
   "outputs": [],
   "source": [
    "class ghost(PG):\n",
    "    def __init__(self, x, y, enviroment=None):\n",
    "        super().__init__(x, y, enviroment)\n",
    "    def go(self):\n",
    "        self.move(np.random.choice(4))\n"
   ]
  },
  {
   "cell_type": "code",
   "execution_count": 100,
   "metadata": {},
   "outputs": [
    {
     "data": {
      "text/plain": [
       "0"
      ]
     },
     "execution_count": 100,
     "metadata": {},
     "output_type": "execute_result"
    }
   ],
   "source": [
    "p.desision()"
   ]
  },
  {
   "cell_type": "code",
   "execution_count": 107,
   "metadata": {},
   "outputs": [],
   "source": [
    "m=18\n",
    "n=9\n",
    "k=4\n",
    "obs=np.array([[1,2],[3,4]])\n",
    "b=board(obs,m,n)\n",
    "p=Pacman(5,5,b)\n",
    "g1=ghost(7,7,b)\n",
    "g2=ghost(6,6,b)\n"
   ]
  },
  {
   "cell_type": "code",
   "execution_count": 110,
   "metadata": {},
   "outputs": [
    {
     "data": {
      "text/plain": [
       "array([[ 0,  0,  0,  0,  0,  0,  0,  0,  0],\n",
       "       [ 0,  0, -1,  0,  0,  0,  0,  0,  0],\n",
       "       [ 0,  0,  0,  0,  0,  0,  0,  0,  0],\n",
       "       [ 0,  0,  0,  0, -1,  0,  0,  0,  0],\n",
       "       [ 0,  0,  0,  0,  0,  0,  0,  0,  0],\n",
       "       [ 2,  0,  0,  0,  0,  0,  0,  0,  0],\n",
       "       [ 0,  0,  0,  0,  0,  0,  1,  0,  0],\n",
       "       [ 0,  0,  0,  0,  0,  0,  0,  0,  0],\n",
       "       [ 2,  0,  0,  0,  0,  0,  0,  0,  0],\n",
       "       [ 0,  0,  0,  0,  0,  0,  0,  0,  0],\n",
       "       [ 0,  0,  0,  0,  0,  0,  0,  0,  0],\n",
       "       [ 0,  0,  0,  0,  0,  0,  0,  0,  0],\n",
       "       [ 0,  0,  0,  0,  0,  0,  0,  0,  0],\n",
       "       [ 0,  0,  0,  0,  0,  0,  0,  0,  0],\n",
       "       [ 0,  0,  0,  0,  0,  0,  0,  0,  0],\n",
       "       [ 0,  0,  0,  0,  0,  0,  0,  0,  0],\n",
       "       [ 0,  0,  0,  0,  0,  0,  0,  0,  0],\n",
       "       [ 0,  0,  0,  0,  0,  0,  0,  0,  0]], dtype=int8)"
      ]
     },
     "execution_count": 110,
     "metadata": {},
     "output_type": "execute_result"
    }
   ],
   "source": [
    "b.step()\n",
    "b.Map()"
   ]
  },
  {
   "cell_type": "code",
   "execution_count": 125,
   "metadata": {},
   "outputs": [],
   "source": [
    "def random_place(m,n,k):\n",
    "    index_array1 = np.arange(m)\n",
    "    index_array2 = np.arange(n)\n",
    "    np.random.shuffle(index_array1)\n",
    "    np.random.shuffle(index_array2)\n",
    "    x,y=index_array1[0:k],index_array2[0:k]\n",
    "    return x,y"
   ]
  },
  {
   "cell_type": "code",
   "execution_count": 95,
   "metadata": {},
   "outputs": [
    {
     "data": {
      "text/plain": [
       "0"
      ]
     },
     "execution_count": 95,
     "metadata": {},
     "output_type": "execute_result"
    }
   ],
   "source": [
    "\n",
    "def random_place(m,n,k):\n",
    "    index_array1 = np.arange(m)\n",
    "    index_array2 = np.arange(n)\n",
    "    np.random.shuffle(index_array1)\n",
    "    np.random.shuffle(index_array2)\n",
    "    x,y=index_array1[0:k],index_array2[0:k]\n",
    "    x=np.concatenate((x,y)).reshape((k,2))\n",
    "   \n",
    "    return x\n",
    "    # def sucssesor(self,l):\n",
    "    #     b=self.enviroment.copy()\n",
    "    #     pg=b.pg\n",
    "    #     for i in range(1,5):\n",
    "    #         pg[0].move(i)\n",
    "    #         for j in range(1,5):\n",
    "    #             pg[1].move(j)\n",
    "    #             for k in range(1,5):\n",
    "    #                 pg[2].move(k)\n",
    "    #                 l.append(b.Map())\n",
    "    #                 pg[1].move((i+2)%4+1)\n",
    "    #                 pg[2].move((i+2)%4+1)\n",
    "    #         pg[0].move((i+2)%4+1)"
   ]
  },
  {
   "cell_type": "code",
   "execution_count": 112,
   "metadata": {},
   "outputs": [],
   "source": [
    "class a():\n",
    "    s=15\n",
    "    def __init__(self,x) -> None:\n",
    "        self.x=x\n",
    "    def f(self,r):\n",
    "        if a.s>r:\n",
    "            print('hello')\n",
    "b=a(5)\n"
   ]
  }
 ],
 "metadata": {
  "kernelspec": {
   "display_name": "Python 3",
   "language": "python",
   "name": "python3"
  },
  "language_info": {
   "codemirror_mode": {
    "name": "ipython",
    "version": 3
   },
   "file_extension": ".py",
   "mimetype": "text/x-python",
   "name": "python",
   "nbconvert_exporter": "python",
   "pygments_lexer": "ipython3",
   "version": "3.10.5"
  },
  "orig_nbformat": 4
 },
 "nbformat": 4,
 "nbformat_minor": 2
}
