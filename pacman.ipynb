{
 "cells": [
  {
   "cell_type": "code",
   "execution_count": 414,
   "metadata": {},
   "outputs": [],
   "source": [
    "import numpy as np\n",
    "class board:\n",
    "    def __init__(self,m=18,n=9):\n",
    "        self.m=m\n",
    "        self.n=n\n",
    "        self.pg=[]\n",
    "        self.obsticles=[]\n",
    "    def add_obsticle(self,obsticles):\n",
    "        self.obsticles=obsticles\n",
    "    def add_pg(self,pg):\n",
    "        if (pg.x,pg.y) not in self.obsticles :\n",
    "            self.pg.append(pg)\n",
    "            return True\n",
    "        return False\n",
    "    def request_move(self,w,index):\n",
    "        pg=self.pg[index]\n",
    "        if w==1  and pg.y<self.n-1:\n",
    "            next=np.array([pg.x,pg.y+1])\n",
    "        elif w==2  and pg.x<self.m-1:\n",
    "            next=np.array([pg.x+1,pg.y])\n",
    "        elif w==3  and pg.y>0:\n",
    "            next=np.array([pg.x,pg.y-1])\n",
    "        elif w==4 and pg.x>0 :\n",
    "            next=np.array([pg.x-1,pg.y])\n",
    "        else:\n",
    "            next=np.array([pg.x,pg.y])\n",
    "        if not((self.obsticles==next).all(axis=1)).any():\n",
    "            pg.x,pg.y=next\n",
    "            return True\n",
    "        return False\n",
    "    def Map(self):\n",
    "        b=np.zeros([self.m,self.n],dtype=np.int8)\n",
    "        b[self.pg[0].x,self.pg[0].y]=1\n",
    "        b[self.obsticles[:,0],self.obsticles[:,1]]=-1\n",
    "        return b\n",
    "class PG:\n",
    "    def __init__(self,x,y,enviroment=None):\n",
    "        self.x=x\n",
    "        self.y=y\n",
    "        self.enviroment=enviroment\n",
    "        if not enviroment==None:\n",
    "            enviroment.add_pg(self)\n",
    "            self.index=len(enviroment.pg)-1\n",
    "    def move(self,w):\n",
    "        if w not in [1,2,3,4]:\n",
    "            return False\n",
    "        elif self.enviroment.request_move(w,self.index):\n",
    "                self.x,self.y=self.enviroment.pg[self.index].x,self.enviroment.pg[self.index].y\n",
    "             \n",
    "        "
   ]
  },
  {
   "cell_type": "code",
   "execution_count": 415,
   "metadata": {},
   "outputs": [],
   "source": [
    "b=board()\n",
    "p=PG(4,2,b)\n",
    "b.pg[0].x\n",
    "b.add_obsticle(np.array([[1,2],[1,1]]))\n",
    "# b.obsticles\n",
    "# if b.add_pacman(p):\n",
    "#     p.enviroment=b\n",
    "# b.disp()"
   ]
  },
  {
   "cell_type": "code",
   "execution_count": 344,
   "metadata": {},
   "outputs": [
    {
     "data": {
      "text/plain": [
       "(4, 2)"
      ]
     },
     "execution_count": 344,
     "metadata": {},
     "output_type": "execute_result"
    }
   ],
   "source": [
    "p.move(4)\n",
    "p.x,p.y"
   ]
  },
  {
   "cell_type": "code",
   "execution_count": 446,
   "metadata": {},
   "outputs": [
    {
     "data": {
      "text/plain": [
       "array([[ 0,  0,  0,  0,  0,  0,  0,  0,  0],\n",
       "       [ 0, -1, -1,  0,  0,  0,  0,  0,  0],\n",
       "       [ 0,  0,  0,  0,  0,  0,  0,  0,  0],\n",
       "       [ 0,  0,  0,  0,  0,  0,  0,  0,  0],\n",
       "       [ 0,  0,  0,  0,  0,  0,  0,  0,  0],\n",
       "       [ 0,  0,  0,  0,  0,  0,  0,  0,  0],\n",
       "       [ 0,  0,  0,  0,  0,  0,  0,  0,  0],\n",
       "       [ 0,  0,  0,  0,  0,  0,  0,  0,  0],\n",
       "       [ 0,  0,  0,  0,  0,  0,  0,  0,  0],\n",
       "       [ 0,  0,  0,  0,  0,  0,  0,  0,  0],\n",
       "       [ 0,  0,  0,  0,  0,  0,  0,  0,  0],\n",
       "       [ 0,  0,  0,  0,  0,  0,  0,  0,  0],\n",
       "       [ 0,  0,  0,  0,  0,  0,  0,  0,  0],\n",
       "       [ 0,  0,  0,  0,  0,  0,  0,  0,  0],\n",
       "       [ 0,  0,  0,  0,  0,  0,  0,  0,  0],\n",
       "       [ 0,  0,  0,  0,  0,  0,  0,  0,  0],\n",
       "       [ 0,  0,  0,  0,  0,  0,  0,  0,  0],\n",
       "       [ 1,  0,  0,  0,  0,  0,  0,  0,  0]], dtype=int8)"
      ]
     },
     "execution_count": 446,
     "metadata": {},
     "output_type": "execute_result"
    }
   ],
   "source": [
    "p.move(2)\n",
    "b.Map()"
   ]
  },
  {
   "cell_type": "code",
   "execution_count": 412,
   "metadata": {},
   "outputs": [
    {
     "data": {
      "text/plain": [
       "True"
      ]
     },
     "execution_count": 412,
     "metadata": {},
     "output_type": "execute_result"
    }
   ],
   "source": [
    "# np.array([2,2]) in np.array([[1,2],[1 ,1]])\n",
    "a=np.array([[1,2],[1 ,1],[3,4],[2,8]])\n",
    "b=np.array([2,2]) \n",
    "# np.where((a==(1,2)).all(axis=1))\n",
    "True not in (a==b).all(axis=1)\n",
    "# a[a[:,1]==b[0]]"
   ]
  }
 ],
 "metadata": {
  "kernelspec": {
   "display_name": "Python 3",
   "language": "python",
   "name": "python3"
  },
  "language_info": {
   "codemirror_mode": {
    "name": "ipython",
    "version": 3
   },
   "file_extension": ".py",
   "mimetype": "text/x-python",
   "name": "python",
   "nbconvert_exporter": "python",
   "pygments_lexer": "ipython3",
   "version": "3.10.5"
  },
  "orig_nbformat": 4
 },
 "nbformat": 4,
 "nbformat_minor": 2
}
