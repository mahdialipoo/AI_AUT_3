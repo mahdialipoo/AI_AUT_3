{
 "cells": [
  {
   "cell_type": "code",
   "execution_count": 78,
   "metadata": {},
   "outputs": [],
   "source": [
    "import numpy as np\n",
    "class board:\n",
    "    def __init__(self,m=18,n=9):\n",
    "        self.m=m\n",
    "        self.n=n\n",
    "        self.pg=[]\n",
    "        self.obsticles=[]\n",
    "    def add_obsticle(self,obsticles):\n",
    "        self.obsticles=obsticles\n",
    "        self.dots=np.ones([self.m,self.n])\n",
    "    def add_pg(self,pg):\n",
    "        if (pg.x,pg.y) not in self.obsticles :\n",
    "            self.pg.append(pg)\n",
    "            return True\n",
    "        return False\n",
    "    def request_move(self,w,index):\n",
    "        pg=self.pg[index]\n",
    "        if w==1  and pg.y<self.n-1:\n",
    "            next=np.array([pg.x,pg.y+1])\n",
    "        elif w==2  and pg.x<self.m-1:\n",
    "            next=np.array([pg.x+1,pg.y])\n",
    "        elif w==3  and pg.y>0:\n",
    "            next=np.array([pg.x,pg.y-1])\n",
    "        elif w==4 and pg.x>0 :\n",
    "            next=np.array([pg.x-1,pg.y])\n",
    "        else:\n",
    "            next=np.array([pg.x,pg.y])\n",
    "        if index==0 :\n",
    "            pg.score=pg.score-1\n",
    "            if self.dots[next[0],next[1]]==1:\n",
    "                self.dots[next[0],next[1]]=0\n",
    "                pg.score=pg.score+10\n",
    "        if not((self.obsticles==next).all(axis=1)).any():\n",
    "            pg.x,pg.y=next[0],next[1]\n",
    "            return True\n",
    "        return False\n",
    "    def Map(self):\n",
    "        b=np.zeros([self.m,self.n],dtype=np.int8)\n",
    "        for i in self.pg:\n",
    "            b[i.x,i.y]=2\n",
    "        b[self.pg[0].x,self.pg[0].y]=1\n",
    "        b[self.obsticles[:,0],self.obsticles[:,1]]=-1\n",
    "        return b  \n",
    "    def step(self):\n",
    "        for i in self.pg:\n",
    "             i.go()          \n",
    "        "
   ]
  },
  {
   "cell_type": "code",
   "execution_count": 33,
   "metadata": {},
   "outputs": [],
   "source": [
    "class PG:\n",
    "    def __init__(self,x,y,enviroment=None):\n",
    "        self.x=x\n",
    "        self.y=y\n",
    "        self.enviroment=enviroment\n",
    "        self.score=10\n",
    "        if not enviroment==None:\n",
    "            enviroment.add_pg(self)\n",
    "            self.index=len(enviroment.pg)-1\n",
    "    def move(self,w):\n",
    "        if w not in [1,2,3,4]:\n",
    "            return False\n",
    "        elif self.enviroment.request_move(w,self.index):\n",
    "                self.x,self.y=self.enviroment.pg[self.index].x,self.enviroment.pg[self.index].y\n"
   ]
  },
  {
   "cell_type": "code",
   "execution_count": 34,
   "metadata": {},
   "outputs": [],
   "source": [
    "class Pacman(PG):\n",
    "    def __init__(self, x, y, enviroment=None):\n",
    "        super().__init__(x, y, enviroment)\n",
    "        if not enviroment==None:\n",
    "            self.enviroment.dots[x,y]=0\n",
    "    def go(self):\n",
    "        self.move(np.random.choice(4)+1)"
   ]
  },
  {
   "cell_type": "code",
   "execution_count": 35,
   "metadata": {},
   "outputs": [],
   "source": [
    "class ghost(PG):\n",
    "    def go(self):\n",
    "        self.move(np.random.choice(4)+1)\n"
   ]
  },
  {
   "cell_type": "code",
   "execution_count": 79,
   "metadata": {},
   "outputs": [],
   "source": [
    "m=18\n",
    "n=9\n",
    "b=board(m,n)\n",
    "b.add_obsticle(obs)\n",
    "p=Pacman(4,2,b)\n",
    "g1=ghost(7,8,b)\n",
    "g2=ghost(5,5,b)\n",
    "# obs=np.random.random_integers(18)\n",
    "obs=np.array([[1,2],[3,4]])\n",
    "# np.random.choice(np.arange(10,20), size=(5,2), replace=True)\n"
   ]
  },
  {
   "cell_type": "code",
   "execution_count": 80,
   "metadata": {},
   "outputs": [
    {
     "name": "stdout",
     "output_type": "stream",
     "text": [
      "self.dots[7,5][[1. 1. 1. 1. 1. 1. 1. 1. 1.]\n",
      " [1. 1. 1. 1. 1. 1. 1. 1. 1.]] , next: [7 8],self.dots[next]: [[1. 1. 1. 1. 1. 1. 1. 1. 1.]\n",
      " [1. 1. 1. 1. 1. 1. 1. 1. 1.]]\n"
     ]
    },
    {
     "data": {
      "text/plain": [
       "array([[ 0,  0,  0,  0,  0,  0,  0,  0,  0],\n",
       "       [ 0,  0, -1,  0,  0,  0,  0,  0,  0],\n",
       "       [ 0,  0,  0,  0,  0,  0,  0,  0,  0],\n",
       "       [ 0,  0,  0,  0, -1,  0,  0,  0,  0],\n",
       "       [ 0,  0,  0,  0,  0,  0,  0,  0,  0],\n",
       "       [ 0,  0,  0,  0,  0,  0,  2,  0,  0],\n",
       "       [ 0,  0,  0,  0,  0,  0,  0,  0,  0],\n",
       "       [ 0,  0,  0,  0,  0,  0,  0,  0,  1],\n",
       "       [ 0,  0,  0,  0,  0,  0,  0,  0,  0],\n",
       "       [ 0,  0,  0,  0,  0,  0,  0,  0,  0],\n",
       "       [ 0,  0,  0,  0,  0,  0,  0,  0,  0],\n",
       "       [ 0,  0,  0,  0,  0,  0,  0,  0,  0],\n",
       "       [ 0,  0,  0,  0,  0,  0,  0,  0,  0],\n",
       "       [ 0,  0,  0,  0,  0,  0,  0,  0,  0],\n",
       "       [ 0,  0,  0,  0,  0,  0,  0,  0,  0],\n",
       "       [ 0,  0,  0,  0,  0,  0,  0,  0,  0],\n",
       "       [ 0,  0,  0,  0,  0,  0,  0,  0,  0],\n",
       "       [ 0,  0,  0,  0,  0,  0,  0,  0,  0]], dtype=int8)"
      ]
     },
     "execution_count": 80,
     "metadata": {},
     "output_type": "execute_result"
    }
   ],
   "source": [
    "b.step()\n",
    "b.Map()"
   ]
  },
  {
   "cell_type": "code",
   "execution_count": 77,
   "metadata": {},
   "outputs": [
    {
     "data": {
      "text/plain": [
       "1.0"
      ]
     },
     "execution_count": 77,
     "metadata": {},
     "output_type": "execute_result"
    }
   ],
   "source": [
    "a=np.ones([10,10])\n",
    "b=np.array([5,1,2])\n",
    "a[1,2]"
   ]
  }
 ],
 "metadata": {
  "kernelspec": {
   "display_name": "Python 3",
   "language": "python",
   "name": "python3"
  },
  "language_info": {
   "codemirror_mode": {
    "name": "ipython",
    "version": 3
   },
   "file_extension": ".py",
   "mimetype": "text/x-python",
   "name": "python",
   "nbconvert_exporter": "python",
   "pygments_lexer": "ipython3",
   "version": "3.10.5"
  },
  "orig_nbformat": 4
 },
 "nbformat": 4,
 "nbformat_minor": 2
}
